{
  "nbformat": 4,
  "nbformat_minor": 0,
  "metadata": {
    "colab": {
      "name": "CNN.ipynb",
      "provenance": [],
      "collapsed_sections": []
    },
    "kernelspec": {
      "name": "python3",
      "display_name": "Python 3"
    },
    "language_info": {
      "codemirror_mode": {
        "name": "ipython",
        "version": 3
      },
      "file_extension": ".py",
      "mimetype": "text/x-python",
      "name": "python",
      "nbconvert_exporter": "python",
      "pygments_lexer": "ipython3",
      "version": "3.6.7"
    },
    "accelerator": "GPU"
  },
  "cells": [
    {
      "cell_type": "code",
      "metadata": {
        "colab_type": "code",
        "id": "Xeapf_vYGl80",
        "colab": {}
      },
      "source": [
        "import numpy as np\n",
        "import torch\n",
        "import os\n",
        "import cv2\n",
        "from tqdm import tqdm\n",
        "from torch.utils.data import Dataset, DataLoader\n",
        "from torchvision.models import resnet34\n",
        "from google.colab import auth\n",
        "from googleapiclient.discovery import build\n",
        "from torchvision import transforms\n",
        "from sklearn.model_selection import train_test_split\n",
        "from sklearn.metrics import accuracy_score\n",
        "from matplotlib import pyplot as plt"
      ],
      "execution_count": 0,
      "outputs": []
    },
    {
      "cell_type": "markdown",
      "metadata": {
        "colab_type": "text",
        "id": "2GpHmo0BG2SX"
      },
      "source": [
        "Сегодня мы будем использовать transfer learning чтобы обучить классификатор героев классических звёздных войн. Эта практика требует обучения на GPU (иначе код будет выполнятся очень долго), поэтому используйте https://colab.research.google.com.\n",
        "\n",
        "Сначала нужно включить поддержку GPU. Зайдите в Edit -> Notebook settings и как hardware accelerator укажите GPU."
      ]
    },
    {
      "cell_type": "markdown",
      "metadata": {
        "colab_type": "text",
        "id": "K9HRimYvHWJ_"
      },
      "source": [
        "Теперь нужно скачать данные, выполните следующую ячейку.\n",
        "В первый раз она попросит вас перейти по ссылке - откройте эту ссылку и скопируйте оттуда токен (длинную строку в base64), вставьте этот токен в окошко под ячейкой."
      ]
    },
    {
      "cell_type": "code",
      "metadata": {
        "colab_type": "code",
        "id": "glyFL0_dHknT",
        "colab": {}
      },
      "source": [
        "def download_data(file_id, file_name):\n",
        "  import io\n",
        "  from googleapiclient.http import MediaIoBaseDownload\n",
        "\n",
        "  request = drive_service.files().get_media(fileId=file_id)\n",
        "  downloaded = io.BytesIO()\n",
        "  downloader = MediaIoBaseDownload(downloaded, request)\n",
        "  done = False\n",
        "  while done is False:\n",
        "    _, done = downloader.next_chunk()\n",
        "    \n",
        "  downloaded.seek(0)\n",
        "  with open(file_name, \"wb\") as f:\n",
        "    f.write(downloaded.read())\n",
        "\n",
        "  \n",
        "auth.authenticate_user()\n",
        "drive_service = build('drive', 'v3')\n",
        "\n",
        "file_id = '139wA_Z9kustXy54ifhWWHJvARo5f7O6y'\n",
        "file_name = 'star_wars.tar.gz'\n",
        "\n",
        "download_data(file_id, file_name)\n",
        "!tar xf star_wars.tar.gz"
      ],
      "execution_count": 0,
      "outputs": []
    },
    {
      "cell_type": "code",
      "metadata": {
        "id": "6nrN68qU-DkZ",
        "colab_type": "code",
        "colab": {}
      },
      "source": [
        "# uncomment in order to use a large dataset\n",
        "#!rm -r /content/star_wars\n",
        "#!unzip /content/star_wars.zip"
      ],
      "execution_count": 0,
      "outputs": []
    },
    {
      "cell_type": "markdown",
      "metadata": {
        "colab_type": "text",
        "id": "j9msPyG3H_Rz"
      },
      "source": [
        "Важная часть обучения нейронных сетей (как и обычно в машинном обучении)  - это работа с данными. Необходимо представить данные в векторном виде и отдать их модели для обучения. В фреймворке Pytorch для этого используется связка двух классов: https://pytorch.org/docs/stable/data.html#torch.utils.data.Dataset и https://pytorch.org/docs/stable/data.html#torch.utils.data.DataLoader. \n",
        "\n",
        "Первый это даже не класс, а интерфейс - у него всего два интересных метода:\n",
        "__getitem__ - выбрать из датасета элемент по заданному числовому индексу\n",
        "__len__ - вернуть длину датасета.\n",
        "\n",
        "\n",
        "\n",
        "DataLoader в свою очередь занимается тем что выбирает элементы из Dataset который передается ему в конструкторе и делает из них батчи для обучения нейронной сети. Вы можете контролировать размер батча с помощью параметра batch_size, также не забудьте включать перемешивание данных перед каждой эпохой передавая в DataLoader параметр shuffle=True. В более продвинутых случаях возможно задавать стратегию того как именно конструируются батчи с помощью классов Sampler и BatchSampler, но мы в нашей практике этих возможностей касаться не будем.\n",
        "\n",
        "Главное отличие Dataset от массива на практике в том что этот интерфейс не обязывает вас хранить весь набор данных в памяти. Типичная реализация по индексу подгружает данные с диска и делает из них сэмпл. "
      ]
    },
    {
      "cell_type": "markdown",
      "metadata": {
        "colab_type": "text",
        "id": "ZwcKwd3-pxmR"
      },
      "source": [
        "Я создал 4 папки и скачал в них картинки с помощью https://github.com/hardikvasa/google-images-download\n",
        "\n",
        "Это делается очень просто:\n",
        "\n",
        "```\n",
        "pip install google_images_download\n",
        "googleimagesdownload -k \"люк скайуокер\"\n",
        "```\n",
        "Гугл ограничивает количество картинок, которые можно скачать по поисковому запросу, но это можно обойти либо скачивать с других мест, где нет ограничений (напр. Yandex или Instagram)\n",
        "\n",
        "\n",
        "В итоге у нас получилась следующая структура на диске:\n",
        "\n",
        "```\n",
        "root/люк скайуокер/xxx.jpg\n",
        "root/люк скайуокер/xxy.jpeg\n",
        "root/люк скайуокер/xxz.png\n",
        "\n",
        "root/чубакка/123.png\n",
        "root/чубакка/nsdf3.jpg\n",
        "root/чубакка/asd932_.gif\n",
        "```\n",
        "\n",
        "По сколько это просто выдача гугла, тут встречаются как .jpg и .png так и .gif\n",
        "\n",
        "Удобнее всего (по крайней мере мне), когда у вас есть 2 массива - один с путями к файлам и другой с лейблами для них. Давайте я сделаю его за вас:"
      ]
    },
    {
      "cell_type": "code",
      "metadata": {
        "colab_type": "code",
        "id": "2jILbuZ9qQax",
        "outputId": "f6ba62ca-385b-4bce-8eda-3a075ea3d96b",
        "colab": {
          "base_uri": "https://localhost:8080/",
          "height": 85
        }
      },
      "source": [
        "filenames = []\n",
        "labels = []\n",
        "for idx, class_dir in enumerate(os.listdir(\"star_wars\")):\n",
        "  print(f\"берем файлы из папки \\\"{class_dir}\\\" и даем им класс {idx}\")\n",
        "  \n",
        "  # не берем файлы кроме .jpg .jpeg и .png\n",
        "  for file in os.listdir(os.path.join(\"star_wars\", class_dir)):\n",
        "    if not file.endswith(('.jpg', '.jpeg', '.png')):\n",
        "      continue\n",
        "      \n",
        "    filenames.append(os.path.join(\"star_wars\", class_dir, file))\n",
        "    labels.append(idx)"
      ],
      "execution_count": 18,
      "outputs": [
        {
          "output_type": "stream",
          "text": [
            "берем файлы из папки \"chewbacca\" и даем им класс 0\n",
            "берем файлы из папки \"darth_vader\" и даем им класс 1\n",
            "берем файлы из папки \"luke_skywalker\" и даем им класс 2\n",
            "берем файлы из папки \"princess_leia\" и даем им класс 3\n"
          ],
          "name": "stdout"
        }
      ]
    },
    {
      "cell_type": "markdown",
      "metadata": {
        "colab_type": "text",
        "id": "MVzPQD5iqRFg"
      },
      "source": [
        "Это типичная ситуация, как у вас могут оказаться данные на руках (а не непонятный массив как было c MNIST)"
      ]
    },
    {
      "cell_type": "code",
      "metadata": {
        "colab_type": "code",
        "id": "eQZki--DzLqO",
        "outputId": "8d8fbf7a-19f2-4d86-909e-53ac982c1794",
        "colab": {
          "base_uri": "https://localhost:8080/",
          "height": 303
        }
      },
      "source": [
        "# будем брать по 1 рандомной картинке, выводить ее и смотреть на класс. Так в реально жизни можно проверить не *** ли вы скачали и верные ли классы\n",
        "# можете выполнять этот cell пока не надоест\n",
        "random_index = np.random.choice(range(len(filenames)))\n",
        "test_img = cv2.imread(filenames[random_index])[:, :, ::-1] # эта штука в конце равносильно переводу из BGR в RGB\n",
        "print(labels[random_index])\n",
        "plt.imshow(test_img)"
      ],
      "execution_count": 19,
      "outputs": [
        {
          "output_type": "stream",
          "text": [
            "0\n"
          ],
          "name": "stdout"
        },
        {
          "output_type": "execute_result",
          "data": {
            "text/plain": [
              "<matplotlib.image.AxesImage at 0x7fb034342c50>"
            ]
          },
          "metadata": {
            "tags": []
          },
          "execution_count": 19
        },
        {
          "output_type": "display_data",
          "data": {
            "image/png": "[encoded data removed]",
            "text/plain": [
              "<Figure size 432x288 with 1 Axes>"
            ]
          },
          "metadata": {
            "tags": []
          }
        }
      ]
    },
    {
      "cell_type": "code",
      "metadata": {
        "colab_type": "code",
        "id": "eGH-FQtAqkU1",
        "colab": {}
      },
      "source": [
        "# Задание 1. Разбейте filenames и labels на train и test части 70/30\n",
        "train_filenames, test_filenames, train_labels, test_labels = train_test_split(filenames, labels, test_size=0.3)"
      ],
      "execution_count": 0,
      "outputs": []
    },
    {
      "cell_type": "markdown",
      "metadata": {
        "colab_type": "text",
        "id": "w8Ny_q5lKs8x"
      },
      "source": [
        "Теперь нашей основной задачей является создание Dataset и Dataloader для наших данных. Их должно быть два: один для train, другой для test.\n",
        "\n",
        "Мы собираемся использовать transfer learning - взять сеть предобученную на ImageNet и доучить её на наших изображениях. Сети тренировавшиеся на ImageNet требуют стандартного размера картинок: 224x224.\n",
        "\n",
        "Нам нужно поресайзить картинки и делать их квадратными. Я подготовил вам два метода для ресайза и для добавление 'ушей' к изображению если оно не квадратное. Вы должны поюзать их в своем классе Dataset. "
      ]
    },
    {
      "cell_type": "code",
      "metadata": {
        "colab_type": "code",
        "id": "3_YoePxsr7ig",
        "colab": {}
      },
      "source": [
        "def add_pad(img, shape):\n",
        "    color_pick = img[0][0]\n",
        "    padded_img = color_pick * np.ones(shape + img.shape[2:3], dtype=np.uint8)\n",
        "    x_offset = int((padded_img.shape[0] - img.shape[0]) / 2)\n",
        "    y_offset = int((padded_img.shape[1] - img.shape[1]) / 2)\n",
        "    padded_img[x_offset:x_offset + img.shape[0], y_offset:y_offset + img.shape[1]] = img\n",
        "\n",
        "    return padded_img\n",
        "\n",
        "\n",
        "def resize(img, shape):\n",
        "    scale = min(shape[0] * 1.0 / img.shape[0], shape[1] * 1.0 / img.shape[1])\n",
        "    if scale != 1:\n",
        "        img = cv2.resize(img, dsize=None, fx=scale, fy=scale, interpolation=cv2.INTER_LINEAR)\n",
        "    return img"
      ],
      "execution_count": 0,
      "outputs": []
    },
    {
      "cell_type": "code",
      "metadata": {
        "colab_type": "code",
        "id": "p__lNU_4Kqca",
        "colab": {}
      },
      "source": [
        "# Задание 2. Реализуйте класс-наследник Dataset. Он должен возвращать по индексу \n",
        "class StarWarsDataset(Dataset):\n",
        "    def __init__(self, filenames, labels):\n",
        "        self._filenames = filenames\n",
        "        self._labels = labels\n",
        "\n",
        "    def __len__(self):\n",
        "        return len(self._filenames)\n",
        "\n",
        "    def __getitem__(self, idx):\n",
        "        # dataloader запросит какой-то индекс (но не больше чем значение __len__)\n",
        "        # мы должны отдать ему image в виде массива и соотвуствующий ему label\n",
        "        filename = self._filenames[idx]\n",
        "        label = self._labels[idx]\n",
        "        \n",
        "        # мы получили имя файла, теперь нужно загрузить картинку как numpy array \n",
        "        # и изменить размер так, чтобы он был 224 на 224\n",
        "        img = cv2.imread(filename)\n",
        "        \n",
        "        img = resize(img, (224, 224))\n",
        "        img = add_pad(img, (224, 224))\n",
        "        \n",
        "        # меняем порядок каналов и делим все на 255, оборачиваем в torch tensor\n",
        "        # это просто надо делать, потом спросите зачем\n",
        "        img = torch.tensor(img, dtype=torch.float).permute(2, 0, 1) / 255.\n",
        "        return img, label"
      ],
      "execution_count": 0,
      "outputs": []
    },
    {
      "cell_type": "markdown",
      "metadata": {
        "colab_type": "text",
        "id": "yX6fprMHMBco"
      },
      "source": [
        "Мы написали типичный класс-наследник Dataset для данных такого формата и поресайзили изображение к размеру 224х224 + преобразовали его в тензор внутри него. Теперь нужно создать Dataloader - да штука, которая просит возвращать Dataset данные по idx и составляет их них батчи."
      ]
    },
    {
      "cell_type": "code",
      "metadata": {
        "colab_type": "code",
        "id": "qiA_x5uatT_G",
        "colab": {}
      },
      "source": [
        "train_dataset = StarWarsDataset(train_filenames, train_labels)\n",
        "train_dataloder = DataLoader(train_dataset, shuffle=True, batch_size=64)"
      ],
      "execution_count": 0,
      "outputs": []
    },
    {
      "cell_type": "code",
      "metadata": {
        "colab_type": "code",
        "id": "j0F6K3e4tZee",
        "colab": {}
      },
      "source": [
        "# Задание 3. Сделайте dataloader для test\n",
        "test_dataset = StarWarsDataset(test_filenames, test_labels)\n",
        "test_dataloder = DataLoader(test_dataset, shuffle=True, batch_size=64)"
      ],
      "execution_count": 0,
      "outputs": []
    },
    {
      "cell_type": "markdown",
      "metadata": {
        "colab_type": "text",
        "id": "11joHOfxtodx"
      },
      "source": [
        "Завайте посмотрим что выводит ваш тестовый Dataloader..."
      ]
    },
    {
      "cell_type": "code",
      "metadata": {
        "colab_type": "code",
        "id": "YwAwwPWfttX4",
        "outputId": "f582a235-91b9-49cb-b6ed-2b93e0c54d0c",
        "colab": {
          "base_uri": "https://localhost:8080/",
          "height": 459
        }
      },
      "source": [
        "for batch in test_dataloder: # получаем 1 batch - 1 итерация подгрузки данных\n",
        "  images, labels = batch     # наш Dataset возвращает tuple, поэтому мы можем сделать так\n",
        "  print(f'Всего батчей по batch_size: {len(train_dataloder)}')\n",
        "  print(f'Лейбл первого элемента в первом батче: {labels[0]}')\n",
        "  print(f'Размер картинки в первом батче: {images[0].shape}')\n",
        "  print(f'Картинка в первом батче: {images[0]}')\n",
        "  break"
      ],
      "execution_count": 25,
      "outputs": [
        {
          "output_type": "stream",
          "text": [
            "Всего батчей по batch_size: 49\n",
            "Лейбл первого элемента в первом батче: 2\n",
            "Размер картинки в первом батче: torch.Size([3, 224, 224])\n",
            "Картинка в первом батче: tensor([[[0.6588, 0.6588, 0.6588,  ..., 0.6588, 0.6510, 0.7647],\n",
            "         [0.6588, 0.6588, 0.6588,  ..., 0.6588, 0.6510, 0.7647],\n",
            "         [0.6588, 0.6588, 0.6588,  ..., 0.6588, 0.6510, 0.7647],\n",
            "         ...,\n",
            "         [0.0392, 0.0392, 0.0431,  ..., 0.0667, 0.0784, 0.3765],\n",
            "         [0.0392, 0.0392, 0.0431,  ..., 0.0667, 0.0784, 0.3765],\n",
            "         [0.0431, 0.0392, 0.0431,  ..., 0.0667, 0.0784, 0.3765]],\n",
            "\n",
            "        [[0.6392, 0.6392, 0.6392,  ..., 0.6431, 0.6353, 0.7490],\n",
            "         [0.6392, 0.6392, 0.6392,  ..., 0.6431, 0.6353, 0.7490],\n",
            "         [0.6392, 0.6392, 0.6392,  ..., 0.6431, 0.6353, 0.7490],\n",
            "         ...,\n",
            "         [0.0078, 0.0078, 0.0118,  ..., 0.0353, 0.0471, 0.3451],\n",
            "         [0.0078, 0.0078, 0.0118,  ..., 0.0353, 0.0471, 0.3451],\n",
            "         [0.0118, 0.0078, 0.0118,  ..., 0.0353, 0.0471, 0.3451]],\n",
            "\n",
            "        [[0.6431, 0.6431, 0.6431,  ..., 0.6392, 0.6314, 0.7451],\n",
            "         [0.6431, 0.6431, 0.6431,  ..., 0.6392, 0.6314, 0.7451],\n",
            "         [0.6431, 0.6431, 0.6431,  ..., 0.6392, 0.6314, 0.7451],\n",
            "         ...,\n",
            "         [0.0078, 0.0078, 0.0118,  ..., 0.0353, 0.0471, 0.3451],\n",
            "         [0.0078, 0.0078, 0.0118,  ..., 0.0353, 0.0471, 0.3451],\n",
            "         [0.0118, 0.0078, 0.0118,  ..., 0.0353, 0.0471, 0.3451]]])\n"
          ],
          "name": "stdout"
        }
      ]
    },
    {
      "cell_type": "code",
      "metadata": {
        "colab_type": "code",
        "id": "n1QgZzKgRagH",
        "colab": {}
      },
      "source": [
        "# Здесь мы берем предобученный resnet34 и заменяем в нём последний слой на голову классифицирующую изображение на 1 из 4 классов\n",
        "# Берём кросс энтропию в качестве лосса и оптимизатор адам\n",
        "# Мы замораживаем все слои сети кроме последнего, который будем обучать далее\n",
        "\n",
        "model = resnet34(pretrained=True) # resnet обученный на ImageNet\n",
        "for param in model.parameters():\n",
        "  param.requires_grad=False\n",
        "\n",
        "num_ftrs = model.fc.in_features\n",
        "model.fc = torch.nn.Linear(num_ftrs, 4)\n",
        "model.to('cuda')\n",
        "\n",
        "# loss и optimizer\n",
        "criterion = torch.nn.CrossEntropyLoss()\n",
        "optimizer = torch.optim.Adam(model.parameters(), lr=0.0005)"
      ],
      "execution_count": 0,
      "outputs": []
    },
    {
      "cell_type": "code",
      "metadata": {
        "colab_type": "code",
        "id": "TdrjlKs8vqdm",
        "colab": {
          "base_uri": "https://localhost:8080/",
          "height": 1000
        },
        "outputId": "aebc7b84-d6e8-4633-a0b4-4c6e08c4a0ee"
      },
      "source": [
        "# можно принтануть модель и уведеть какие в ней слои\n",
        "print(model)"
      ],
      "execution_count": 27,
      "outputs": [
        {
          "output_type": "stream",
          "text": [
            "ResNet(\n",
            "  (conv1): Conv2d(3, 64, kernel_size=(7, 7), stride=(2, 2), padding=(3, 3), bias=False)\n",
            "  (bn1): BatchNorm2d(64, eps=1e-05, momentum=0.1, affine=True, track_running_stats=True)\n",
            "  (relu): ReLU(inplace=True)\n",
            "  (maxpool): MaxPool2d(kernel_size=3, stride=2, padding=1, dilation=1, ceil_mode=False)\n",
            "  (layer1): Sequential(\n",
            "    (0): BasicBlock(\n",
            "      (conv1): Conv2d(64, 64, kernel_size=(3, 3), stride=(1, 1), padding=(1, 1), bias=False)\n",
            "      (bn1): BatchNorm2d(64, eps=1e-05, momentum=0.1, affine=True, track_running_stats=True)\n",
            "      (relu): ReLU(inplace=True)\n",
            "      (conv2): Conv2d(64, 64, kernel_size=(3, 3), stride=(1, 1), padding=(1, 1), bias=False)\n",
            "      (bn2): BatchNorm2d(64, eps=1e-05, momentum=0.1, affine=True, track_running_stats=True)\n",
            "    )\n",
            "    (1): BasicBlock(\n",
            "      (conv1): Conv2d(64, 64, kernel_size=(3, 3), stride=(1, 1), padding=(1, 1), bias=False)\n",
            "      (bn1): BatchNorm2d(64, eps=1e-05, momentum=0.1, affine=True, track_running_stats=True)\n",
            "      (relu): ReLU(inplace=True)\n",
            "      (conv2): Conv2d(64, 64, kernel_size=(3, 3), stride=(1, 1), padding=(1, 1), bias=False)\n",
            "      (bn2): BatchNorm2d(64, eps=1e-05, momentum=0.1, affine=True, track_running_stats=True)\n",
            "    )\n",
            "    (2): BasicBlock(\n",
            "      (conv1): Conv2d(64, 64, kernel_size=(3, 3), stride=(1, 1), padding=(1, 1), bias=False)\n",
            "      (bn1): BatchNorm2d(64, eps=1e-05, momentum=0.1, affine=True, track_running_stats=True)\n",
            "      (relu): ReLU(inplace=True)\n",
            "      (conv2): Conv2d(64, 64, kernel_size=(3, 3), stride=(1, 1), padding=(1, 1), bias=False)\n",
            "      (bn2): BatchNorm2d(64, eps=1e-05, momentum=0.1, affine=True, track_running_stats=True)\n",
            "    )\n",
            "  )\n",
            "  (layer2): Sequential(\n",
            "    (0): BasicBlock(\n",
            "      (conv1): Conv2d(64, 128, kernel_size=(3, 3), stride=(2, 2), padding=(1, 1), bias=False)\n",
            "      (bn1): BatchNorm2d(128, eps=1e-05, momentum=0.1, affine=True, track_running_stats=True)\n",
            "      (relu): ReLU(inplace=True)\n",
            "      (conv2): Conv2d(128, 128, kernel_size=(3, 3), stride=(1, 1), padding=(1, 1), bias=False)\n",
            "      (bn2): BatchNorm2d(128, eps=1e-05, momentum=0.1, affine=True, track_running_stats=True)\n",
            "      (downsample): Sequential(\n",
            "        (0): Conv2d(64, 128, kernel_size=(1, 1), stride=(2, 2), bias=False)\n",
            "        (1): BatchNorm2d(128, eps=1e-05, momentum=0.1, affine=True, track_running_stats=True)\n",
            "      )\n",
            "    )\n",
            "    (1): BasicBlock(\n",
            "      (conv1): Conv2d(128, 128, kernel_size=(3, 3), stride=(1, 1), padding=(1, 1), bias=False)\n",
            "      (bn1): BatchNorm2d(128, eps=1e-05, momentum=0.1, affine=True, track_running_stats=True)\n",
            "      (relu): ReLU(inplace=True)\n",
            "      (conv2): Conv2d(128, 128, kernel_size=(3, 3), stride=(1, 1), padding=(1, 1), bias=False)\n",
            "      (bn2): BatchNorm2d(128, eps=1e-05, momentum=0.1, affine=True, track_running_stats=True)\n",
            "    )\n",
            "    (2): BasicBlock(\n",
            "      (conv1): Conv2d(128, 128, kernel_size=(3, 3), stride=(1, 1), padding=(1, 1), bias=False)\n",
            "      (bn1): BatchNorm2d(128, eps=1e-05, momentum=0.1, affine=True, track_running_stats=True)\n",
            "      (relu): ReLU(inplace=True)\n",
            "      (conv2): Conv2d(128, 128, kernel_size=(3, 3), stride=(1, 1), padding=(1, 1), bias=False)\n",
            "      (bn2): BatchNorm2d(128, eps=1e-05, momentum=0.1, affine=True, track_running_stats=True)\n",
            "    )\n",
            "    (3): BasicBlock(\n",
            "      (conv1): Conv2d(128, 128, kernel_size=(3, 3), stride=(1, 1), padding=(1, 1), bias=False)\n",
            "      (bn1): BatchNorm2d(128, eps=1e-05, momentum=0.1, affine=True, track_running_stats=True)\n",
            "      (relu): ReLU(inplace=True)\n",
            "      (conv2): Conv2d(128, 128, kernel_size=(3, 3), stride=(1, 1), padding=(1, 1), bias=False)\n",
            "      (bn2): BatchNorm2d(128, eps=1e-05, momentum=0.1, affine=True, track_running_stats=True)\n",
            "    )\n",
            "  )\n",
            "  (layer3): Sequential(\n",
            "    (0): BasicBlock(\n",
            "      (conv1): Conv2d(128, 256, kernel_size=(3, 3), stride=(2, 2), padding=(1, 1), bias=False)\n",
            "      (bn1): BatchNorm2d(256, eps=1e-05, momentum=0.1, affine=True, track_running_stats=True)\n",
            "      (relu): ReLU(inplace=True)\n",
            "      (conv2): Conv2d(256, 256, kernel_size=(3, 3), stride=(1, 1), padding=(1, 1), bias=False)\n",
            "      (bn2): BatchNorm2d(256, eps=1e-05, momentum=0.1, affine=True, track_running_stats=True)\n",
            "      (downsample): Sequential(\n",
            "        (0): Conv2d(128, 256, kernel_size=(1, 1), stride=(2, 2), bias=False)\n",
            "        (1): BatchNorm2d(256, eps=1e-05, momentum=0.1, affine=True, track_running_stats=True)\n",
            "      )\n",
            "    )\n",
            "    (1): BasicBlock(\n",
            "      (conv1): Conv2d(256, 256, kernel_size=(3, 3), stride=(1, 1), padding=(1, 1), bias=False)\n",
            "      (bn1): BatchNorm2d(256, eps=1e-05, momentum=0.1, affine=True, track_running_stats=True)\n",
            "      (relu): ReLU(inplace=True)\n",
            "      (conv2): Conv2d(256, 256, kernel_size=(3, 3), stride=(1, 1), padding=(1, 1), bias=False)\n",
            "      (bn2): BatchNorm2d(256, eps=1e-05, momentum=0.1, affine=True, track_running_stats=True)\n",
            "    )\n",
            "    (2): BasicBlock(\n",
            "      (conv1): Conv2d(256, 256, kernel_size=(3, 3), stride=(1, 1), padding=(1, 1), bias=False)\n",
            "      (bn1): BatchNorm2d(256, eps=1e-05, momentum=0.1, affine=True, track_running_stats=True)\n",
            "      (relu): ReLU(inplace=True)\n",
            "      (conv2): Conv2d(256, 256, kernel_size=(3, 3), stride=(1, 1), padding=(1, 1), bias=False)\n",
            "      (bn2): BatchNorm2d(256, eps=1e-05, momentum=0.1, affine=True, track_running_stats=True)\n",
            "    )\n",
            "    (3): BasicBlock(\n",
            "      (conv1): Conv2d(256, 256, kernel_size=(3, 3), stride=(1, 1), padding=(1, 1), bias=False)\n",
            "      (bn1): BatchNorm2d(256, eps=1e-05, momentum=0.1, affine=True, track_running_stats=True)\n",
            "      (relu): ReLU(inplace=True)\n",
            "      (conv2): Conv2d(256, 256, kernel_size=(3, 3), stride=(1, 1), padding=(1, 1), bias=False)\n",
            "      (bn2): BatchNorm2d(256, eps=1e-05, momentum=0.1, affine=True, track_running_stats=True)\n",
            "    )\n",
            "    (4): BasicBlock(\n",
            "      (conv1): Conv2d(256, 256, kernel_size=(3, 3), stride=(1, 1), padding=(1, 1), bias=False)\n",
            "      (bn1): BatchNorm2d(256, eps=1e-05, momentum=0.1, affine=True, track_running_stats=True)\n",
            "      (relu): ReLU(inplace=True)\n",
            "      (conv2): Conv2d(256, 256, kernel_size=(3, 3), stride=(1, 1), padding=(1, 1), bias=False)\n",
            "      (bn2): BatchNorm2d(256, eps=1e-05, momentum=0.1, affine=True, track_running_stats=True)\n",
            "    )\n",
            "    (5): BasicBlock(\n",
            "      (conv1): Conv2d(256, 256, kernel_size=(3, 3), stride=(1, 1), padding=(1, 1), bias=False)\n",
            "      (bn1): BatchNorm2d(256, eps=1e-05, momentum=0.1, affine=True, track_running_stats=True)\n",
            "      (relu): ReLU(inplace=True)\n",
            "      (conv2): Conv2d(256, 256, kernel_size=(3, 3), stride=(1, 1), padding=(1, 1), bias=False)\n",
            "      (bn2): BatchNorm2d(256, eps=1e-05, momentum=0.1, affine=True, track_running_stats=True)\n",
            "    )\n",
            "  )\n",
            "  (layer4): Sequential(\n",
            "    (0): BasicBlock(\n",
            "      (conv1): Conv2d(256, 512, kernel_size=(3, 3), stride=(2, 2), padding=(1, 1), bias=False)\n",
            "      (bn1): BatchNorm2d(512, eps=1e-05, momentum=0.1, affine=True, track_running_stats=True)\n",
            "      (relu): ReLU(inplace=True)\n",
            "      (conv2): Conv2d(512, 512, kernel_size=(3, 3), stride=(1, 1), padding=(1, 1), bias=False)\n",
            "      (bn2): BatchNorm2d(512, eps=1e-05, momentum=0.1, affine=True, track_running_stats=True)\n",
            "      (downsample): Sequential(\n",
            "        (0): Conv2d(256, 512, kernel_size=(1, 1), stride=(2, 2), bias=False)\n",
            "        (1): BatchNorm2d(512, eps=1e-05, momentum=0.1, affine=True, track_running_stats=True)\n",
            "      )\n",
            "    )\n",
            "    (1): BasicBlock(\n",
            "      (conv1): Conv2d(512, 512, kernel_size=(3, 3), stride=(1, 1), padding=(1, 1), bias=False)\n",
            "      (bn1): BatchNorm2d(512, eps=1e-05, momentum=0.1, affine=True, track_running_stats=True)\n",
            "      (relu): ReLU(inplace=True)\n",
            "      (conv2): Conv2d(512, 512, kernel_size=(3, 3), stride=(1, 1), padding=(1, 1), bias=False)\n",
            "      (bn2): BatchNorm2d(512, eps=1e-05, momentum=0.1, affine=True, track_running_stats=True)\n",
            "    )\n",
            "    (2): BasicBlock(\n",
            "      (conv1): Conv2d(512, 512, kernel_size=(3, 3), stride=(1, 1), padding=(1, 1), bias=False)\n",
            "      (bn1): BatchNorm2d(512, eps=1e-05, momentum=0.1, affine=True, track_running_stats=True)\n",
            "      (relu): ReLU(inplace=True)\n",
            "      (conv2): Conv2d(512, 512, kernel_size=(3, 3), stride=(1, 1), padding=(1, 1), bias=False)\n",
            "      (bn2): BatchNorm2d(512, eps=1e-05, momentum=0.1, affine=True, track_running_stats=True)\n",
            "    )\n",
            "  )\n",
            "  (avgpool): AdaptiveAvgPool2d(output_size=(1, 1))\n",
            "  (fc): Linear(in_features=512, out_features=4, bias=True)\n",
            ")\n"
          ],
          "name": "stdout"
        }
      ]
    },
    {
      "cell_type": "markdown",
      "metadata": {
        "colab_type": "text",
        "id": "tSeMn3OcwZs7"
      },
      "source": [
        "Как я и говорил, transfer learning - это очень просто. В resnet куча сверток и пулингов, в конце fully connected слой на 1000. Мы удаляет последний слой, заменяя его новым на с выходом на 4 класса. Так, свертки внутри модели помнят все фичи умеют распознавать классы из ImageNet, мы просто помогаем их скорректировать на наших данных  "
      ]
    },
    {
      "cell_type": "code",
      "metadata": {
        "colab_type": "code",
        "id": "QNNJdU2QRse4",
        "colab": {}
      },
      "source": [
        "#Эта функция считает точность модели - на вход передается сама модель, номер эпохи и тестовый лоадер.\n",
        "\n",
        "def run_test_on_epoch(model, epoch, test_loader):\n",
        "    model.eval()\n",
        "    with torch.no_grad():\n",
        "      test_accuracy = []\n",
        "      test_real = []\n",
        "      for batch_x, batch_y in tqdm(test_loader):\n",
        "          outputs = model(batch_x.to('cuda')).detach().cpu().numpy()\n",
        "          #print(outputs.shape)\n",
        "          #print(outputs)\n",
        "          test_accuracy.append(outputs)\n",
        "          test_real.append(batch_y.detach().cpu().numpy())\n",
        "      print(\"\\nEpoch\", epoch + 1, \"test accuracy\", accuracy_score(np.hstack(test_real), np.argmax(np.vstack(test_accuracy), axis=1)))\n",
        "    model.train()"
      ],
      "execution_count": 0,
      "outputs": []
    },
    {
      "cell_type": "code",
      "metadata": {
        "colab_type": "code",
        "id": "GY3ofh1SSAec",
        "colab": {}
      },
      "source": [
        "# Задание 5. Напишите код для обучения модели 25 эпох. В конце каждой эпохи вызывайте run_test_on_epoch() чтобы следить за точностью\n",
        "\n",
        "for epoch in tqdm(range(25)):\n",
        "  for i, (inputs, labels) in enumerate(train_dataloder):\n",
        "    inputs = inputs.to(torch.device('cuda'))\n",
        "    labels = labels.to(torch.device('cuda'))\n",
        "      \n",
        "    optimizer.zero_grad()\n",
        "\n",
        "    outputs = model(inputs)    \n",
        "    loss = criterion(outputs, labels)\n",
        "    loss.backward()\n",
        "    optimizer.step()  \n",
        "  \n",
        "  # половину сделал за вас\n",
        "  run_test_on_epoch(model, epoch, test_dataloder)\n",
        "       "
      ],
      "execution_count": 0,
      "outputs": []
    },
    {
      "cell_type": "markdown",
      "metadata": {
        "colab_type": "text",
        "id": "Zq093_VVSaBG"
      },
      "source": [
        "Какая точность у вас получилась?\n",
        "\n",
        "Дополнительные задания:\n",
        " 1. Скачать свои данные и обучить на них\n",
        " 2. Добавить агументации в класс StarWarsDataset (например, не только resize и add_pad а конвертацию в grayscale в 10% случаях или сглаживание)"
      ]
    },
    {
      "cell_type": "markdown",
      "metadata": {
        "id": "W_aicx_XvkFk",
        "colab_type": "text"
      },
      "source": [
        "Results:\n",
        "\n",
        "Small dataset(n=358) accuracy: 0.898\n",
        "\n",
        "Large dataset(n=4434) accuracy: 0.944"
      ]
    }
  ]
}